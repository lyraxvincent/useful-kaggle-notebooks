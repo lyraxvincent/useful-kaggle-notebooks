{
  "nbformat": 4,
  "nbformat_minor": 0,
  "metadata": {
    "colab": {
      "name": "Google Trends Coordinates.ipynb",
      "provenance": [],
      "collapsed_sections": []
    },
    "kernelspec": {
      "name": "python3",
      "display_name": "Python 3"
    },
    "widgets": {
      "application/vnd.jupyter.widget-state+json": {
        "93fe2c8ec92847829d199840144fcd93": {
          "model_module": "@jupyter-widgets/controls",
          "model_name": "HBoxModel",
          "state": {
            "_view_name": "HBoxView",
            "_dom_classes": [],
            "_model_name": "HBoxModel",
            "_view_module": "@jupyter-widgets/controls",
            "_model_module_version": "1.5.0",
            "_view_count": null,
            "_view_module_version": "1.5.0",
            "box_style": "",
            "layout": "IPY_MODEL_30853f132608426bb8c50975d3acaa7a",
            "_model_module": "@jupyter-widgets/controls",
            "children": [
              "IPY_MODEL_0f046cec9a4f4c7b829e94e4755a6418",
              "IPY_MODEL_221ce27f1c6c4eaea6160bd3d1110f69"
            ]
          }
        },
        "30853f132608426bb8c50975d3acaa7a": {
          "model_module": "@jupyter-widgets/base",
          "model_name": "LayoutModel",
          "state": {
            "_view_name": "LayoutView",
            "grid_template_rows": null,
            "right": null,
            "justify_content": null,
            "_view_module": "@jupyter-widgets/base",
            "overflow": null,
            "_model_module_version": "1.2.0",
            "_view_count": null,
            "flex_flow": null,
            "width": null,
            "min_width": null,
            "border": null,
            "align_items": null,
            "bottom": null,
            "_model_module": "@jupyter-widgets/base",
            "top": null,
            "grid_column": null,
            "overflow_y": null,
            "overflow_x": null,
            "grid_auto_flow": null,
            "grid_area": null,
            "grid_template_columns": null,
            "flex": null,
            "_model_name": "LayoutModel",
            "justify_items": null,
            "grid_row": null,
            "max_height": null,
            "align_content": null,
            "visibility": null,
            "align_self": null,
            "height": null,
            "min_height": null,
            "padding": null,
            "grid_auto_rows": null,
            "grid_gap": null,
            "max_width": null,
            "order": null,
            "_view_module_version": "1.2.0",
            "grid_template_areas": null,
            "object_position": null,
            "object_fit": null,
            "grid_auto_columns": null,
            "margin": null,
            "display": null,
            "left": null
          }
        },
        "0f046cec9a4f4c7b829e94e4755a6418": {
          "model_module": "@jupyter-widgets/controls",
          "model_name": "FloatProgressModel",
          "state": {
            "_view_name": "ProgressView",
            "style": "IPY_MODEL_2e64d75605aa425b860cc75cce582843",
            "_dom_classes": [],
            "description": "100%",
            "_model_name": "FloatProgressModel",
            "bar_style": "",
            "max": 51,
            "_view_module": "@jupyter-widgets/controls",
            "_model_module_version": "1.5.0",
            "value": 51,
            "_view_count": null,
            "_view_module_version": "1.5.0",
            "orientation": "horizontal",
            "min": 0,
            "description_tooltip": null,
            "_model_module": "@jupyter-widgets/controls",
            "layout": "IPY_MODEL_b0702fd668ea4211b87052c412162d67"
          }
        },
        "221ce27f1c6c4eaea6160bd3d1110f69": {
          "model_module": "@jupyter-widgets/controls",
          "model_name": "HTMLModel",
          "state": {
            "_view_name": "HTMLView",
            "style": "IPY_MODEL_03f88cddbb1e442da539f9da01846f3a",
            "_dom_classes": [],
            "description": "",
            "_model_name": "HTMLModel",
            "placeholder": "​",
            "_view_module": "@jupyter-widgets/controls",
            "_model_module_version": "1.5.0",
            "value": " 51/51 [01:00&lt;00:00,  1.12s/it]",
            "_view_count": null,
            "_view_module_version": "1.5.0",
            "description_tooltip": null,
            "_model_module": "@jupyter-widgets/controls",
            "layout": "IPY_MODEL_54f1310d8c1949beaf3afe0a6c52c3e4"
          }
        },
        "2e64d75605aa425b860cc75cce582843": {
          "model_module": "@jupyter-widgets/controls",
          "model_name": "ProgressStyleModel",
          "state": {
            "_view_name": "StyleView",
            "_model_name": "ProgressStyleModel",
            "description_width": "initial",
            "_view_module": "@jupyter-widgets/base",
            "_model_module_version": "1.5.0",
            "_view_count": null,
            "_view_module_version": "1.2.0",
            "bar_color": null,
            "_model_module": "@jupyter-widgets/controls"
          }
        },
        "b0702fd668ea4211b87052c412162d67": {
          "model_module": "@jupyter-widgets/base",
          "model_name": "LayoutModel",
          "state": {
            "_view_name": "LayoutView",
            "grid_template_rows": null,
            "right": null,
            "justify_content": null,
            "_view_module": "@jupyter-widgets/base",
            "overflow": null,
            "_model_module_version": "1.2.0",
            "_view_count": null,
            "flex_flow": null,
            "width": null,
            "min_width": null,
            "border": null,
            "align_items": null,
            "bottom": null,
            "_model_module": "@jupyter-widgets/base",
            "top": null,
            "grid_column": null,
            "overflow_y": null,
            "overflow_x": null,
            "grid_auto_flow": null,
            "grid_area": null,
            "grid_template_columns": null,
            "flex": null,
            "_model_name": "LayoutModel",
            "justify_items": null,
            "grid_row": null,
            "max_height": null,
            "align_content": null,
            "visibility": null,
            "align_self": null,
            "height": null,
            "min_height": null,
            "padding": null,
            "grid_auto_rows": null,
            "grid_gap": null,
            "max_width": null,
            "order": null,
            "_view_module_version": "1.2.0",
            "grid_template_areas": null,
            "object_position": null,
            "object_fit": null,
            "grid_auto_columns": null,
            "margin": null,
            "display": null,
            "left": null
          }
        },
        "03f88cddbb1e442da539f9da01846f3a": {
          "model_module": "@jupyter-widgets/controls",
          "model_name": "DescriptionStyleModel",
          "state": {
            "_view_name": "StyleView",
            "_model_name": "DescriptionStyleModel",
            "description_width": "",
            "_view_module": "@jupyter-widgets/base",
            "_model_module_version": "1.5.0",
            "_view_count": null,
            "_view_module_version": "1.2.0",
            "_model_module": "@jupyter-widgets/controls"
          }
        },
        "54f1310d8c1949beaf3afe0a6c52c3e4": {
          "model_module": "@jupyter-widgets/base",
          "model_name": "LayoutModel",
          "state": {
            "_view_name": "LayoutView",
            "grid_template_rows": null,
            "right": null,
            "justify_content": null,
            "_view_module": "@jupyter-widgets/base",
            "overflow": null,
            "_model_module_version": "1.2.0",
            "_view_count": null,
            "flex_flow": null,
            "width": null,
            "min_width": null,
            "border": null,
            "align_items": null,
            "bottom": null,
            "_model_module": "@jupyter-widgets/base",
            "top": null,
            "grid_column": null,
            "overflow_y": null,
            "overflow_x": null,
            "grid_auto_flow": null,
            "grid_area": null,
            "grid_template_columns": null,
            "flex": null,
            "_model_name": "LayoutModel",
            "justify_items": null,
            "grid_row": null,
            "max_height": null,
            "align_content": null,
            "visibility": null,
            "align_self": null,
            "height": null,
            "min_height": null,
            "padding": null,
            "grid_auto_rows": null,
            "grid_gap": null,
            "max_width": null,
            "order": null,
            "_view_module_version": "1.2.0",
            "grid_template_areas": null,
            "object_position": null,
            "object_fit": null,
            "grid_auto_columns": null,
            "margin": null,
            "display": null,
            "left": null
          }
        }
      }
    }
  },
  "cells": [
    {
      "cell_type": "markdown",
      "metadata": {
        "id": "LZPhqF-TkV2m",
        "colab_type": "text"
      },
      "source": [
        "# <font  color = \"blue\"> Google Trends Coordinates Extraction"
      ]
    },
    {
      "cell_type": "markdown",
      "metadata": {
        "id": "kLG2VTrnTvYL",
        "colab_type": "text"
      },
      "source": [
        "## <font  color = \"black\"> 1. Defining the Question"
      ]
    },
    {
      "cell_type": "markdown",
      "metadata": {
        "id": "XecOwPNorl2W",
        "colab_type": "text"
      },
      "source": [
        "### a) Specifying the Data Analytic Question\n",
        "Google Trends is a search trends feature that shows how frequently a given search term is entered into Google’s search engine relative to the site’s total search volume over a given period of time. Google Trends can be used for comparative keyword research and to discover event-triggered spikes in keyword search volume.\n",
        "\n",
        "Google Trends provides keyword-related data including search volume index and geographical information about search engine users."
      ]
    },
    {
      "cell_type": "markdown",
      "metadata": {
        "id": "J4wfHZwQrs-t",
        "colab_type": "text"
      },
      "source": [
        "### b) Defining the Metric for Success\n",
        "The evaluation metric for this challenge is to extract longitudes and latitudes of sentiments then map them"
      ]
    },
    {
      "cell_type": "markdown",
      "metadata": {
        "id": "a9BPYqunry97",
        "colab_type": "text"
      },
      "source": [
        "### c) Understanding the context \n",
        "You can enter a search term into the search box at the top of the tool to see how search volume has varied for that term over time and in different locations. Change the location, time frame, category or industry, and type of search (web, news, shopping, or YouTube) for more fine-grained data.\n",
        "\n",
        "While only a sample of Google searches are used in Google Trends, this is sufficient because we handle billions of searches per day. Providing access to the entire data set would be too large to process quickly. By sampling data, we can look at a dataset representative of all Google searches, while finding insights that can be processed within minutes of an event happening in the real world.\n",
        "\n",
        "Google Trends normalizes search data to make comparisons between terms easier. Search results are normalized to the time and location of a query by the following process:\n",
        "\n",
        "Each data point is divided by the total searches of the geography and time range it represents to compare relative popularity. Otherwise, places with the most search volume would always be ranked highest.\n",
        "\n",
        "The resulting numbers are then scaled on a range of 0 to 100 based on a topic’s proportion to all searches on all topics.\n",
        "\n",
        "Different regions that show the same search interest for a term don't always have the same total search volumes."
      ]
    },
    {
      "cell_type": "markdown",
      "metadata": {
        "id": "_fYp6_k-ly6g",
        "colab_type": "text"
      },
      "source": [
        "## <font  color = \"black\"> 2. Installing Libraries"
      ]
    },
    {
      "cell_type": "code",
      "metadata": {
        "id": "VNF0JK1vGGio",
        "colab_type": "code",
        "colab": {
          "base_uri": "https://localhost:8080/",
          "height": 1000
        },
        "outputId": "9109404d-e410-47c9-ab11-004e091896a9"
      },
      "source": [
        "# Installing chrome driver and library updates\n",
        "\n",
        "!apt-get update \n",
        "!apt install chromium-chromedriver\n",
        "\n",
        "# Installing webdriver manager\n",
        "\n",
        "pip install webdriver-manager\n",
        "\n",
        "#  Installing selenium and folium\n",
        "!pip install selenium\n",
        "!pip install folium"
      ],
      "execution_count": null,
      "outputs": [
        {
          "output_type": "stream",
          "text": [
            "\r0% [Working]\r            \rGet:1 http://security.ubuntu.com/ubuntu bionic-security InRelease [88.7 kB]\n",
            "\r0% [Connecting to archive.ubuntu.com (91.189.88.152)] [1 InRelease 14.2 kB/88.7\r0% [Waiting for headers] [Connected to cloud.r-project.org (13.32.81.22)] [Wait\r0% [1 InRelease gpgv 88.7 kB] [Waiting for headers] [Connected to cloud.r-proje\r                                                                               \rIgn:2 https://developer.download.nvidia.com/compute/cuda/repos/ubuntu1804/x86_64  InRelease\n",
            "\r0% [1 InRelease gpgv 88.7 kB] [Waiting for headers] [Waiting for headers] [Wait\r                                                                               \rGet:3 https://cloud.r-project.org/bin/linux/ubuntu bionic-cran35/ InRelease [3,626 B]\n",
            "\r0% [1 InRelease gpgv 88.7 kB] [Waiting for headers] [3 InRelease 3,626 B/3,626 \r0% [1 InRelease gpgv 88.7 kB] [Waiting for headers] [Waiting for headers] [Wait\r                                                                               \rHit:4 http://ppa.launchpad.net/graphics-drivers/ppa/ubuntu bionic InRelease\n",
            "\r0% [1 InRelease gpgv 88.7 kB] [Waiting for headers] [Waiting for headers] [Conn\r                                                                               \rHit:5 http://archive.ubuntu.com/ubuntu bionic InRelease\n",
            "\r0% [1 InRelease gpgv 88.7 kB] [Waiting for headers] [Waiting for headers] [Conn\r                                                                               \rIgn:6 https://developer.download.nvidia.com/compute/machine-learning/repos/ubuntu1804/x86_64  InRelease\n",
            "\r0% [1 InRelease gpgv 88.7 kB] [Waiting for headers] [Connecting to ppa.launchpa\r                                                                               \rGet:7 https://developer.download.nvidia.com/compute/cuda/repos/ubuntu1804/x86_64  Release [697 B]\n",
            "\r0% [1 InRelease gpgv 88.7 kB] [Waiting for headers] [7 Release 697 B/697 B 100%\r0% [1 InRelease gpgv 88.7 kB] [Waiting for headers] [Connecting to ppa.launchpa\r                                                                               \rGet:8 https://developer.download.nvidia.com/compute/machine-learning/repos/ubuntu1804/x86_64  Release [564 B]\n",
            "\r0% [1 InRelease gpgv 88.7 kB] [Waiting for headers] [8 Release 564 B/564 B 100%\r0% [1 InRelease gpgv 88.7 kB] [Waiting for headers] [Connecting to ppa.launchpa\r                                                                               \rGet:9 https://developer.download.nvidia.com/compute/cuda/repos/ubuntu1804/x86_64  Release.gpg [836 B]\n",
            "\r0% [1 InRelease gpgv 88.7 kB] [Waiting for headers] [9 Release.gpg 836 B/836 B \r0% [1 InRelease gpgv 88.7 kB] [Waiting for headers] [Connecting to ppa.launchpa\r                                                                               \rGet:10 http://archive.ubuntu.com/ubuntu bionic-updates InRelease [88.7 kB]\n",
            "\r0% [1 InRelease gpgv 88.7 kB] [10 InRelease 14.2 kB/88.7 kB 16%] [Waiting for h\r                                                                               \rGet:11 https://developer.download.nvidia.com/compute/machine-learning/repos/ubuntu1804/x86_64  Release.gpg [833 B]\n",
            "Get:12 http://ppa.launchpad.net/marutter/c2d4u3.5/ubuntu bionic InRelease [15.4 kB]\n",
            "Get:13 http://security.ubuntu.com/ubuntu bionic-security/universe amd64 Packages [869 kB]\n",
            "Get:14 http://archive.ubuntu.com/ubuntu bionic-backports InRelease [74.6 kB]\n",
            "Get:15 http://security.ubuntu.com/ubuntu bionic-security/multiverse amd64 Packages [9,282 B]\n",
            "Get:16 http://security.ubuntu.com/ubuntu bionic-security/main amd64 Packages [1,003 kB]\n",
            "Get:17 http://security.ubuntu.com/ubuntu bionic-security/restricted amd64 Packages [89.0 kB]\n",
            "Get:18 https://cloud.r-project.org/bin/linux/ubuntu bionic-cran35/ Packages [94.1 kB]\n",
            "Ign:19 https://developer.download.nvidia.com/compute/cuda/repos/ubuntu1804/x86_64  Packages\n",
            "Get:19 https://developer.download.nvidia.com/compute/cuda/repos/ubuntu1804/x86_64  Packages [214 kB]\n",
            "Get:20 https://developer.download.nvidia.com/compute/machine-learning/repos/ubuntu1804/x86_64  Packages [41.2 kB]\n",
            "Get:21 http://ppa.launchpad.net/marutter/c2d4u3.5/ubuntu bionic/main Sources [1,846 kB]\n",
            "Get:22 http://archive.ubuntu.com/ubuntu bionic-updates/main amd64 Packages [1,303 kB]\n",
            "Get:23 http://archive.ubuntu.com/ubuntu bionic-updates/multiverse amd64 Packages [13.6 kB]\n",
            "Get:24 http://archive.ubuntu.com/ubuntu bionic-updates/universe amd64 Packages [1,405 kB]\n",
            "Get:25 http://archive.ubuntu.com/ubuntu bionic-updates/restricted amd64 Packages [103 kB]\n",
            "Get:26 http://ppa.launchpad.net/marutter/c2d4u3.5/ubuntu bionic/main amd64 Packages [891 kB]\n",
            "Fetched 8,155 kB in 3s (2,386 kB/s)\n",
            "Reading package lists... Done\n",
            "Reading package lists... Done\n",
            "Building dependency tree       \n",
            "Reading state information... Done\n",
            "The following package was automatically installed and is no longer required:\n",
            "  libnvidia-common-440\n",
            "Use 'apt autoremove' to remove it.\n",
            "The following additional packages will be installed:\n",
            "  chromium-browser chromium-browser-l10n chromium-codecs-ffmpeg-extra\n",
            "Suggested packages:\n",
            "  webaccounts-chromium-extension unity-chromium-extension adobe-flashplugin\n",
            "The following NEW packages will be installed:\n",
            "  chromium-browser chromium-browser-l10n chromium-chromedriver\n",
            "  chromium-codecs-ffmpeg-extra\n",
            "0 upgraded, 4 newly installed, 0 to remove and 81 not upgraded.\n",
            "Need to get 75.5 MB of archives.\n",
            "After this operation, 256 MB of additional disk space will be used.\n",
            "Get:1 http://archive.ubuntu.com/ubuntu bionic-updates/universe amd64 chromium-codecs-ffmpeg-extra amd64 83.0.4103.61-0ubuntu0.18.04.1 [1,119 kB]\n",
            "Get:2 http://archive.ubuntu.com/ubuntu bionic-updates/universe amd64 chromium-browser amd64 83.0.4103.61-0ubuntu0.18.04.1 [66.7 MB]\n",
            "Get:3 http://archive.ubuntu.com/ubuntu bionic-updates/universe amd64 chromium-browser-l10n all 83.0.4103.61-0ubuntu0.18.04.1 [3,378 kB]\n",
            "Get:4 http://archive.ubuntu.com/ubuntu bionic-updates/universe amd64 chromium-chromedriver amd64 83.0.4103.61-0ubuntu0.18.04.1 [4,294 kB]\n",
            "Fetched 75.5 MB in 3s (24.3 MB/s)\n",
            "Selecting previously unselected package chromium-codecs-ffmpeg-extra.\n",
            "(Reading database ... 144379 files and directories currently installed.)\n",
            "Preparing to unpack .../chromium-codecs-ffmpeg-extra_83.0.4103.61-0ubuntu0.18.04.1_amd64.deb ...\n",
            "Unpacking chromium-codecs-ffmpeg-extra (83.0.4103.61-0ubuntu0.18.04.1) ...\n",
            "Selecting previously unselected package chromium-browser.\n",
            "Preparing to unpack .../chromium-browser_83.0.4103.61-0ubuntu0.18.04.1_amd64.deb ...\n",
            "Unpacking chromium-browser (83.0.4103.61-0ubuntu0.18.04.1) ...\n",
            "Selecting previously unselected package chromium-browser-l10n.\n",
            "Preparing to unpack .../chromium-browser-l10n_83.0.4103.61-0ubuntu0.18.04.1_all.deb ...\n",
            "Unpacking chromium-browser-l10n (83.0.4103.61-0ubuntu0.18.04.1) ...\n",
            "Selecting previously unselected package chromium-chromedriver.\n",
            "Preparing to unpack .../chromium-chromedriver_83.0.4103.61-0ubuntu0.18.04.1_amd64.deb ...\n",
            "Unpacking chromium-chromedriver (83.0.4103.61-0ubuntu0.18.04.1) ...\n",
            "Setting up chromium-codecs-ffmpeg-extra (83.0.4103.61-0ubuntu0.18.04.1) ...\n",
            "Setting up chromium-browser (83.0.4103.61-0ubuntu0.18.04.1) ...\n",
            "update-alternatives: using /usr/bin/chromium-browser to provide /usr/bin/x-www-browser (x-www-browser) in auto mode\n",
            "update-alternatives: using /usr/bin/chromium-browser to provide /usr/bin/gnome-www-browser (gnome-www-browser) in auto mode\n",
            "Setting up chromium-chromedriver (83.0.4103.61-0ubuntu0.18.04.1) ...\n",
            "Setting up chromium-browser-l10n (83.0.4103.61-0ubuntu0.18.04.1) ...\n",
            "Processing triggers for hicolor-icon-theme (0.17-2) ...\n",
            "Processing triggers for mime-support (3.60ubuntu1) ...\n",
            "Processing triggers for man-db (2.8.3-2ubuntu0.1) ...\n"
          ],
          "name": "stdout"
        }
      ]
    },
    {
      "cell_type": "code",
      "metadata": {
        "id": "bbf3ZIcy9uwj",
        "colab_type": "code",
        "colab": {}
      },
      "source": [
        "# Importing folium and selenium \n",
        "\n",
        "from selenium import webdriver\n",
        "from webdriver_manager.chrome import ChromeDriverManager\n",
        "import folium\n",
        "\n",
        "\n",
        "# Importing tqdm - an essential progressbar python package. \n",
        "# It is very useful to estimate how much time the web scraping part of your code will take\n",
        "\n",
        "from tqdm import tqdm_notebook as tqdmn\n",
        "from tqdm import notebook\n",
        "\n",
        "# Importing pandas\n",
        "import pandas as pd\n",
        "pd.set_option('display.max_rows', 500)\n",
        "pd.set_option('display.max_columns', 500)\n",
        "pd.set_option('display.width', 1000)\n",
        "\n",
        "\n",
        "\n",
        "# Importing os and request to extract data from source\n",
        "import os\n",
        "from io import StringIO\n",
        "import requests"
      ],
      "execution_count": null,
      "outputs": []
    },
    {
      "cell_type": "markdown",
      "metadata": {
        "id": "kc9KUulLmIGp",
        "colab_type": "text"
      },
      "source": [
        "## <font  color = \"black\"> 3. Reading Data from Source(Drive)"
      ]
    },
    {
      "cell_type": "code",
      "metadata": {
        "id": "ErL-kmcxwaXb",
        "colab_type": "code",
        "colab": {}
      },
      "source": [
        "# Data url\n",
        "google_trends = 'https://drive.google.com/file/d/1AHrXRp4x4MxKRALN5ImArKRATaaRUQ6U/view?usp=sharing'\n",
        "\n",
        "\n",
        "# Function to read csv data from url\n",
        "\n",
        "def read_csv(url):\n",
        "  url = 'https://drive.google.com/uc?export=download&id=' + url.split('/')[-2]\n",
        "  csv_raw = requests.get(url).text\n",
        "  csv = StringIO(csv_raw)\n",
        "  return csv\n",
        "\n",
        "# Defining csv data to dataframe\n",
        "\n",
        "df = pd.read_csv(read_csv(google_trends),skiprows=2)\n"
      ],
      "execution_count": null,
      "outputs": []
    },
    {
      "cell_type": "markdown",
      "metadata": {
        "id": "0nkmfmrTmtUG",
        "colab_type": "text"
      },
      "source": [
        "## <font  color = \"black\">4. Checking the Data"
      ]
    },
    {
      "cell_type": "code",
      "metadata": {
        "id": "T_wmAdS3ylmd",
        "colab_type": "code",
        "colab": {
          "base_uri": "https://localhost:8080/",
          "height": 136
        },
        "outputId": "08367d35-d780-464e-dbf3-f2bb4e6a7ab9"
      },
      "source": [
        "# Previewing data\n",
        "\n",
        "df.head(3)"
      ],
      "execution_count": null,
      "outputs": [
        {
          "output_type": "execute_result",
          "data": {
            "text/html": [
              "<div>\n",
              "<style scoped>\n",
              "    .dataframe tbody tr th:only-of-type {\n",
              "        vertical-align: middle;\n",
              "    }\n",
              "\n",
              "    .dataframe tbody tr th {\n",
              "        vertical-align: top;\n",
              "    }\n",
              "\n",
              "    .dataframe thead th {\n",
              "        text-align: right;\n",
              "    }\n",
              "</style>\n",
              "<table border=\"1\" class=\"dataframe\">\n",
              "  <thead>\n",
              "    <tr style=\"text-align: right;\">\n",
              "      <th></th>\n",
              "      <th>Region</th>\n",
              "      <th>Youth: (6/10/19 - 6/10/20)</th>\n",
              "      <th>Love: (6/10/19 - 6/10/20)</th>\n",
              "      <th>Education: (6/10/19 - 6/10/20)</th>\n",
              "      <th>Mental health: (6/10/19 - 6/10/20)</th>\n",
              "      <th>Social media: (6/10/19 - 6/10/20)</th>\n",
              "    </tr>\n",
              "  </thead>\n",
              "  <tbody>\n",
              "    <tr>\n",
              "      <th>0</th>\n",
              "      <td>Hawaii</td>\n",
              "      <td>6%</td>\n",
              "      <td>60%</td>\n",
              "      <td>23%</td>\n",
              "      <td>6%</td>\n",
              "      <td>5%</td>\n",
              "    </tr>\n",
              "    <tr>\n",
              "      <th>1</th>\n",
              "      <td>Mississippi</td>\n",
              "      <td>7%</td>\n",
              "      <td>55%</td>\n",
              "      <td>27%</td>\n",
              "      <td>7%</td>\n",
              "      <td>4%</td>\n",
              "    </tr>\n",
              "    <tr>\n",
              "      <th>2</th>\n",
              "      <td>New Jersey</td>\n",
              "      <td>6%</td>\n",
              "      <td>56%</td>\n",
              "      <td>27%</td>\n",
              "      <td>7%</td>\n",
              "      <td>4%</td>\n",
              "    </tr>\n",
              "  </tbody>\n",
              "</table>\n",
              "</div>"
            ],
            "text/plain": [
              "        Region Youth: (6/10/19 - 6/10/20) Love: (6/10/19 - 6/10/20) Education: (6/10/19 - 6/10/20) Mental health: (6/10/19 - 6/10/20) Social media: (6/10/19 - 6/10/20)\n",
              "0       Hawaii                         6%                       60%                            23%                                 6%                                5%\n",
              "1  Mississippi                         7%                       55%                            27%                                 7%                                4%\n",
              "2   New Jersey                         6%                       56%                            27%                                 7%                                4%"
            ]
          },
          "metadata": {
            "tags": []
          },
          "execution_count": 7
        }
      ]
    },
    {
      "cell_type": "markdown",
      "metadata": {
        "id": "i5BKk-bBm5Kz",
        "colab_type": "text"
      },
      "source": [
        "##<font  color = \"black\">5. Creating URL'S for each Location"
      ]
    },
    {
      "cell_type": "code",
      "metadata": {
        "id": "W7UHb5Z_y1Xe",
        "colab_type": "code",
        "colab": {}
      },
      "source": [
        "# Creating column containing all the URLs we want to crawl\n",
        "\n",
        "df['Url'] = ['https://www.google.com/maps/search/' + i for i in df['Region'] ]"
      ],
      "execution_count": null,
      "outputs": []
    },
    {
      "cell_type": "code",
      "metadata": {
        "id": "2ZepB8J71p0I",
        "colab_type": "code",
        "colab": {
          "base_uri": "https://localhost:8080/",
          "height": 246
        },
        "outputId": "ec03e7cb-8043-48ef-8ce1-624325e37fbf"
      },
      "source": [
        "# Previewing the data\n",
        "\n",
        "df.head()"
      ],
      "execution_count": null,
      "outputs": [
        {
          "output_type": "execute_result",
          "data": {
            "text/html": [
              "<div>\n",
              "<style scoped>\n",
              "    .dataframe tbody tr th:only-of-type {\n",
              "        vertical-align: middle;\n",
              "    }\n",
              "\n",
              "    .dataframe tbody tr th {\n",
              "        vertical-align: top;\n",
              "    }\n",
              "\n",
              "    .dataframe thead th {\n",
              "        text-align: right;\n",
              "    }\n",
              "</style>\n",
              "<table border=\"1\" class=\"dataframe\">\n",
              "  <thead>\n",
              "    <tr style=\"text-align: right;\">\n",
              "      <th></th>\n",
              "      <th>Region</th>\n",
              "      <th>Youth: (6/10/19 - 6/10/20)</th>\n",
              "      <th>Love: (6/10/19 - 6/10/20)</th>\n",
              "      <th>Education: (6/10/19 - 6/10/20)</th>\n",
              "      <th>Mental health: (6/10/19 - 6/10/20)</th>\n",
              "      <th>Social media: (6/10/19 - 6/10/20)</th>\n",
              "      <th>Url</th>\n",
              "    </tr>\n",
              "  </thead>\n",
              "  <tbody>\n",
              "    <tr>\n",
              "      <th>0</th>\n",
              "      <td>Hawaii</td>\n",
              "      <td>6%</td>\n",
              "      <td>60%</td>\n",
              "      <td>23%</td>\n",
              "      <td>6%</td>\n",
              "      <td>5%</td>\n",
              "      <td>https://www.google.com/maps/search/Hawaii</td>\n",
              "    </tr>\n",
              "    <tr>\n",
              "      <th>1</th>\n",
              "      <td>Mississippi</td>\n",
              "      <td>7%</td>\n",
              "      <td>55%</td>\n",
              "      <td>27%</td>\n",
              "      <td>7%</td>\n",
              "      <td>4%</td>\n",
              "      <td>https://www.google.com/maps/search/Mississippi</td>\n",
              "    </tr>\n",
              "    <tr>\n",
              "      <th>2</th>\n",
              "      <td>New Jersey</td>\n",
              "      <td>6%</td>\n",
              "      <td>56%</td>\n",
              "      <td>27%</td>\n",
              "      <td>7%</td>\n",
              "      <td>4%</td>\n",
              "      <td>https://www.google.com/maps/search/New Jersey</td>\n",
              "    </tr>\n",
              "    <tr>\n",
              "      <th>3</th>\n",
              "      <td>California</td>\n",
              "      <td>7%</td>\n",
              "      <td>59%</td>\n",
              "      <td>21%</td>\n",
              "      <td>8%</td>\n",
              "      <td>5%</td>\n",
              "      <td>https://www.google.com/maps/search/California</td>\n",
              "    </tr>\n",
              "    <tr>\n",
              "      <th>4</th>\n",
              "      <td>Georgia</td>\n",
              "      <td>7%</td>\n",
              "      <td>58%</td>\n",
              "      <td>25%</td>\n",
              "      <td>6%</td>\n",
              "      <td>4%</td>\n",
              "      <td>https://www.google.com/maps/search/Georgia</td>\n",
              "    </tr>\n",
              "  </tbody>\n",
              "</table>\n",
              "</div>"
            ],
            "text/plain": [
              "        Region  ...                                             Url\n",
              "0       Hawaii  ...       https://www.google.com/maps/search/Hawaii\n",
              "1  Mississippi  ...  https://www.google.com/maps/search/Mississippi\n",
              "2   New Jersey  ...   https://www.google.com/maps/search/New Jersey\n",
              "3   California  ...   https://www.google.com/maps/search/California\n",
              "4      Georgia  ...      https://www.google.com/maps/search/Georgia\n",
              "\n",
              "[5 rows x 7 columns]"
            ]
          },
          "metadata": {
            "tags": []
          },
          "execution_count": 18
        }
      ]
    },
    {
      "cell_type": "markdown",
      "metadata": {
        "id": "3hnWGB2mn8tZ",
        "colab_type": "text"
      },
      "source": [
        "##<font  color = \"black\">6. Iterate URLs through Google Maps with Coordinates"
      ]
    },
    {
      "cell_type": "code",
      "metadata": {
        "id": "V2IpQvuI1r0a",
        "colab_type": "code",
        "colab": {
          "base_uri": "https://localhost:8080/",
          "height": 134,
          "referenced_widgets": [
            "93fe2c8ec92847829d199840144fcd93",
            "30853f132608426bb8c50975d3acaa7a",
            "0f046cec9a4f4c7b829e94e4755a6418",
            "221ce27f1c6c4eaea6160bd3d1110f69",
            "2e64d75605aa425b860cc75cce582843",
            "b0702fd668ea4211b87052c412162d67",
            "03f88cddbb1e442da539f9da01846f3a",
            "54f1310d8c1949beaf3afe0a6c52c3e4"
          ]
        },
        "outputId": "60bc0aa9-9787-43b5-8372-04fcab3a28f9"
      },
      "source": [
        "# Here we create an empty list in which we shall append Urls with coordinates\n",
        "\n",
        "Url_With_Coordinates = []\n",
        "\n",
        "\n",
        "#  prefs to run the Webdriver without javascript and images \n",
        "# This way the code will take much less time to load webpages \n",
        "\n",
        "chrome_options = webdriver.ChromeOptions()\n",
        "chrome_options.add_argument('--headless')\n",
        "chrome_options.add_argument('--no-sandbox')\n",
        "chrome_options.add_argument('--disable-dev-shm-usage')\n",
        "\n",
        "wd = webdriver.Chrome('chromedriver',chrome_options=chrome_options)\n",
        "\n",
        "driver =webdriver.Chrome('chromedriver',chrome_options=chrome_options)\n",
        "\n",
        "# Storing the url with coordinates in a list\n",
        "\n",
        "for url in tqdmn(df.Url, leave=False):\n",
        "    driver.get(url)\n",
        "    Url_With_Coordinates.append(driver.find_element_by_css_selector('meta[itemprop=image]').get_attribute('content'))\n",
        "    \n",
        "driver.close()"
      ],
      "execution_count": null,
      "outputs": [
        {
          "output_type": "stream",
          "text": [
            "/usr/local/lib/python3.6/dist-packages/ipykernel_launcher.py:10: DeprecationWarning: use options instead of chrome_options\n",
            "  # Remove the CWD from sys.path while we load stuff.\n",
            "/usr/local/lib/python3.6/dist-packages/ipykernel_launcher.py:12: DeprecationWarning: use options instead of chrome_options\n",
            "  if sys.path[0] == '':\n",
            "/usr/local/lib/python3.6/dist-packages/ipykernel_launcher.py:16: TqdmDeprecationWarning: This function will be removed in tqdm==5.0.0\n",
            "Please use `tqdm.notebook.tqdm` instead of `tqdm.tqdm_notebook`\n",
            "  app.launch_new_instance()\n"
          ],
          "name": "stderr"
        },
        {
          "output_type": "display_data",
          "data": {
            "application/vnd.jupyter.widget-view+json": {
              "model_id": "93fe2c8ec92847829d199840144fcd93",
              "version_minor": 0,
              "version_major": 2
            },
            "text/plain": [
              "HBox(children=(FloatProgress(value=0.0, max=51.0), HTML(value='')))"
            ]
          },
          "metadata": {
            "tags": []
          }
        },
        {
          "output_type": "stream",
          "text": [
            "\r"
          ],
          "name": "stdout"
        }
      ]
    },
    {
      "cell_type": "code",
      "metadata": {
        "id": "vTV-a9lXLZgy",
        "colab_type": "code",
        "colab": {
          "base_uri": "https://localhost:8080/",
          "height": 121
        },
        "outputId": "b87940de-c64e-4d48-971a-b5e98d7c26bc"
      },
      "source": [
        "# Preview of url with coordinates\n",
        "\n",
        "Url_With_Coordinates[:5]"
      ],
      "execution_count": null,
      "outputs": [
        {
          "output_type": "execute_result",
          "data": {
            "text/plain": [
              "['https://maps.google.com/maps/api/staticmap?center=20.46%2C-157.505&zoom=7&size=256x256&language=en&sensor=false&client=google-maps-frontend&signature=zeU0_pnAVWi-jnyJNaZFoJAhP2A',\n",
              " 'https://maps.google.com/maps/api/staticmap?center=32.57110255%2C-89.87644845&zoom=7&size=256x256&language=en&sensor=false&client=google-maps-frontend&signature=mlb2fpXUwvafZj2A7zmGTyf_JRU',\n",
              " 'https://maps.google.com/maps/api/staticmap?center=40.07304%2C-74.72432305&zoom=8&size=256x256&language=en&sensor=false&client=google-maps-frontend&signature=AGc2oMLX_-rrFEup0uyOvEjiSxs',\n",
              " 'https://maps.google.com/maps/api/staticmap?center=37.26917445%2C-119.306607&zoom=6&size=256x256&language=en&sensor=false&client=google-maps-frontend&signature=TT0fHIZyKC0Fpc-vt6sR05B6Ylg',\n",
              " 'https://maps.google.com/maps/api/staticmap?center=32.67812485%2C-83.17829695&zoom=7&size=256x256&language=en&sensor=false&client=google-maps-frontend&signature=JAbdIU8s8WQK64I4_PXhLD_6oF4']"
            ]
          },
          "metadata": {
            "tags": []
          },
          "execution_count": 11
        }
      ]
    },
    {
      "cell_type": "code",
      "metadata": {
        "id": "_BN5x8t91-vu",
        "colab_type": "code",
        "colab": {}
      },
      "source": [
        "# Appending coordinates to our dataframe\n",
        "\n",
        "df['Url_With_Coordinates'] = Url_With_Coordinates"
      ],
      "execution_count": null,
      "outputs": []
    },
    {
      "cell_type": "markdown",
      "metadata": {
        "id": "OkJoWph-rabE",
        "colab_type": "text"
      },
      "source": [
        "##<font  color = \"black\">7. Separating Longitudes from latitudes"
      ]
    },
    {
      "cell_type": "code",
      "metadata": {
        "id": "kNMVBruLNFBu",
        "colab_type": "code",
        "colab": {}
      },
      "source": [
        "# Extracting Latitude from URL with coordinates\n",
        "df['lat'] = [ url.split('?center=')[1].split('&zoom=')[0].split('%2C')[0] for url in df['Url_With_Coordinates'] ]\n",
        "\n",
        "# Extracting Longitude from URL with coordinates\n",
        "df['long'] = [url.split('?center=')[1].split('&zoom=')[0].split('%2C')[1] for url in df['Url_With_Coordinates'] ]"
      ],
      "execution_count": null,
      "outputs": []
    },
    {
      "cell_type": "code",
      "metadata": {
        "id": "t-F0Ky_WNh-A",
        "colab_type": "code",
        "colab": {
          "base_uri": "https://localhost:8080/",
          "height": 366
        },
        "outputId": "14397347-4199-4fa8-eb91-a0fc3e3a2d87"
      },
      "source": [
        "# Previewing Output\n",
        "\n",
        "df.head(3)"
      ],
      "execution_count": null,
      "outputs": [
        {
          "output_type": "execute_result",
          "data": {
            "text/html": [
              "<div>\n",
              "<style scoped>\n",
              "    .dataframe tbody tr th:only-of-type {\n",
              "        vertical-align: middle;\n",
              "    }\n",
              "\n",
              "    .dataframe tbody tr th {\n",
              "        vertical-align: top;\n",
              "    }\n",
              "\n",
              "    .dataframe thead th {\n",
              "        text-align: right;\n",
              "    }\n",
              "</style>\n",
              "<table border=\"1\" class=\"dataframe\">\n",
              "  <thead>\n",
              "    <tr style=\"text-align: right;\">\n",
              "      <th></th>\n",
              "      <th>Region</th>\n",
              "      <th>Youth: (6/10/19 - 6/10/20)</th>\n",
              "      <th>Love: (6/10/19 - 6/10/20)</th>\n",
              "      <th>Education: (6/10/19 - 6/10/20)</th>\n",
              "      <th>Mental health: (6/10/19 - 6/10/20)</th>\n",
              "      <th>Social media: (6/10/19 - 6/10/20)</th>\n",
              "      <th>Url</th>\n",
              "      <th>Url_With_Coordinates</th>\n",
              "      <th>lat</th>\n",
              "      <th>long</th>\n",
              "    </tr>\n",
              "  </thead>\n",
              "  <tbody>\n",
              "    <tr>\n",
              "      <th>0</th>\n",
              "      <td>Hawaii</td>\n",
              "      <td>6%</td>\n",
              "      <td>60%</td>\n",
              "      <td>23%</td>\n",
              "      <td>6%</td>\n",
              "      <td>5%</td>\n",
              "      <td>https://www.google.com/maps/search/Hawaii</td>\n",
              "      <td>https://maps.google.com/maps/api/staticmap?cen...</td>\n",
              "      <td>20.46</td>\n",
              "      <td>-157.505</td>\n",
              "    </tr>\n",
              "    <tr>\n",
              "      <th>1</th>\n",
              "      <td>Mississippi</td>\n",
              "      <td>7%</td>\n",
              "      <td>55%</td>\n",
              "      <td>27%</td>\n",
              "      <td>7%</td>\n",
              "      <td>4%</td>\n",
              "      <td>https://www.google.com/maps/search/Mississippi</td>\n",
              "      <td>https://maps.google.com/maps/api/staticmap?cen...</td>\n",
              "      <td>32.57110255</td>\n",
              "      <td>-89.87644845</td>\n",
              "    </tr>\n",
              "    <tr>\n",
              "      <th>2</th>\n",
              "      <td>New Jersey</td>\n",
              "      <td>6%</td>\n",
              "      <td>56%</td>\n",
              "      <td>27%</td>\n",
              "      <td>7%</td>\n",
              "      <td>4%</td>\n",
              "      <td>https://www.google.com/maps/search/New Jersey</td>\n",
              "      <td>https://maps.google.com/maps/api/staticmap?cen...</td>\n",
              "      <td>40.07304</td>\n",
              "      <td>-74.72432305</td>\n",
              "    </tr>\n",
              "    <tr>\n",
              "      <th>3</th>\n",
              "      <td>California</td>\n",
              "      <td>7%</td>\n",
              "      <td>59%</td>\n",
              "      <td>21%</td>\n",
              "      <td>8%</td>\n",
              "      <td>5%</td>\n",
              "      <td>https://www.google.com/maps/search/California</td>\n",
              "      <td>https://maps.google.com/maps/api/staticmap?cen...</td>\n",
              "      <td>37.26917445</td>\n",
              "      <td>-119.306607</td>\n",
              "    </tr>\n",
              "    <tr>\n",
              "      <th>4</th>\n",
              "      <td>Georgia</td>\n",
              "      <td>7%</td>\n",
              "      <td>58%</td>\n",
              "      <td>25%</td>\n",
              "      <td>6%</td>\n",
              "      <td>4%</td>\n",
              "      <td>https://www.google.com/maps/search/Georgia</td>\n",
              "      <td>https://maps.google.com/maps/api/staticmap?cen...</td>\n",
              "      <td>32.67812485</td>\n",
              "      <td>-83.17829695</td>\n",
              "    </tr>\n",
              "  </tbody>\n",
              "</table>\n",
              "</div>"
            ],
            "text/plain": [
              "        Region Youth: (6/10/19 - 6/10/20) Love: (6/10/19 - 6/10/20) Education: (6/10/19 - 6/10/20) Mental health: (6/10/19 - 6/10/20) Social media: (6/10/19 - 6/10/20)                                             Url                               Url_With_Coordinates          lat          long\n",
              "0       Hawaii                         6%                       60%                            23%                                 6%                                5%       https://www.google.com/maps/search/Hawaii  https://maps.google.com/maps/api/staticmap?cen...        20.46      -157.505\n",
              "1  Mississippi                         7%                       55%                            27%                                 7%                                4%  https://www.google.com/maps/search/Mississippi  https://maps.google.com/maps/api/staticmap?cen...  32.57110255  -89.87644845\n",
              "2   New Jersey                         6%                       56%                            27%                                 7%                                4%   https://www.google.com/maps/search/New Jersey  https://maps.google.com/maps/api/staticmap?cen...     40.07304  -74.72432305\n",
              "3   California                         7%                       59%                            21%                                 8%                                5%   https://www.google.com/maps/search/California  https://maps.google.com/maps/api/staticmap?cen...  37.26917445   -119.306607\n",
              "4      Georgia                         7%                       58%                            25%                                 6%                                4%      https://www.google.com/maps/search/Georgia  https://maps.google.com/maps/api/staticmap?cen...  32.67812485  -83.17829695"
            ]
          },
          "metadata": {
            "tags": []
          },
          "execution_count": 14
        }
      ]
    },
    {
      "cell_type": "code",
      "metadata": {
        "id": "G0UUOlQdtLCS",
        "colab_type": "code",
        "colab": {}
      },
      "source": [
        "# Saving Output as CSV\n",
        "\n",
        "df.to_csv('google_trends_with_coordinates.csv')"
      ],
      "execution_count": null,
      "outputs": []
    }
  ]
}